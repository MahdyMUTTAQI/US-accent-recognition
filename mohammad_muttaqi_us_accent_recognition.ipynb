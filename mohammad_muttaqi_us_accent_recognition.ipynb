{
 "cells": [
  {
   "cell_type": "markdown",
   "metadata": {},
   "source": [
    "# US Accent Recognition\n",
    "# Mohammad MUTTAQI - 17050241030"
   ]
  },
  {
   "cell_type": "markdown",
   "metadata": {},
   "source": [
    "Importing necessary libraries:"
   ]
  },
  {
   "cell_type": "code",
   "execution_count": 36,
   "metadata": {},
   "outputs": [],
   "source": [
    "import time\n",
    "%matplotlib inline\n",
    "import numpy as np\n",
    "import pandas as pd\n",
    "import seaborn as sn\n",
    "from numpy import std\n",
    "from numpy import mean\n",
    "from sklearn.svm import SVC\n",
    "import matplotlib.pyplot as plt\n",
    "from sklearn.model_selection import KFold\n",
    "from sklearn.gaussian_process.kernels import RBF\n",
    "from sklearn.neighbors import KNeighborsClassifier\n",
    "from sklearn.linear_model import LogisticRegression\n",
    "from sklearn.model_selection import cross_val_score\n",
    "from sklearn.gaussian_process import GaussianProcessClassifier"
   ]
  },
  {
   "cell_type": "markdown",
   "metadata": {},
   "source": [
    "Importing the data set and pre-processing:"
   ]
  },
  {
   "cell_type": "code",
   "execution_count": 16,
   "metadata": {},
   "outputs": [],
   "source": [
    "df = pd.read_csv('accent_dataset.csv')\n",
    "df.language = [1 if var == \"US\" else 0 for var in df.language]\n",
    "X = df.drop(columns=['language'])\n",
    "y = df['language'].values"
   ]
  },
  {
   "cell_type": "markdown",
   "metadata": {},
   "source": [
    "# Logistic Regression"
   ]
  },
  {
   "cell_type": "markdown",
   "metadata": {},
   "source": [
    "Compiling and training the model:"
   ]
  },
  {
   "cell_type": "code",
   "execution_count": 17,
   "metadata": {},
   "outputs": [
    {
     "name": "stdout",
     "output_type": "stream",
     "text": [
      "Accuracy = 0.781 \n",
      "Standard deviation = (0.039)\n",
      "Computation Time = 2.4933295249938965\n"
     ]
    }
   ],
   "source": [
    "# Logistic Regression with k-Fold\n",
    "# k = 5, C = 0.04\n",
    "# The best accuracy result is 78.1%,   standard deviation = 3.9%,   Computation Time = 2.29s\n",
    "\n",
    "start = time.time()\n",
    "cv = KFold(n_splits=5, random_state=1, shuffle=True)\n",
    "model = LogisticRegression(C=0.04)\n",
    "scores = cross_val_score(model, X, y, scoring='accuracy', cv=cv, n_jobs=-1)\n",
    "end = time.time()\n",
    "total_time = end - start\n",
    "print('Accuracy = %.3f \\nStandard deviation = (%.3f)' % (mean(scores), std(scores)))\n",
    "print(\"Computation Time = \"+ str(total_time))"
   ]
  },
  {
   "cell_type": "markdown",
   "metadata": {},
   "source": [
    "Calculating the precision:"
   ]
  },
  {
   "cell_type": "code",
   "execution_count": 18,
   "metadata": {},
   "outputs": [
    {
     "name": "stdout",
     "output_type": "stream",
     "text": [
      "Precision = 0.810\n"
     ]
    }
   ],
   "source": [
    "# Precision\n",
    "# k = 5, C = 0.04\n",
    "# Precision => 81.0%\n",
    "\n",
    "cv = KFold(n_splits=5, random_state=1, shuffle=True)\n",
    "model = LogisticRegression(C=0.04)\n",
    "scores = cross_val_score(model, X, y, scoring='precision', cv=cv, n_jobs=-1)\n",
    "print('Precision = %.3f' % (mean(scores)))"
   ]
  },
  {
   "cell_type": "markdown",
   "metadata": {},
   "source": [
    "Calculating the recall:"
   ]
  },
  {
   "cell_type": "code",
   "execution_count": 19,
   "metadata": {},
   "outputs": [
    {
     "name": "stdout",
     "output_type": "stream",
     "text": [
      "Recall = 0.739\n"
     ]
    }
   ],
   "source": [
    "# Recall\n",
    "# k = 5, C = 0.04\n",
    "# Recall => 73.9%\n",
    "\n",
    "cv = KFold(n_splits=5, random_state=1, shuffle=True)\n",
    "model = LogisticRegression(C=0.04)\n",
    "scores = cross_val_score(model, X, y, scoring='recall', cv=cv, n_jobs=-1)\n",
    "print('Recall = %.3f' % (mean(scores)))"
   ]
  },
  {
   "cell_type": "markdown",
   "metadata": {},
   "source": [
    "Calculating the f1 score:"
   ]
  },
  {
   "cell_type": "code",
   "execution_count": 20,
   "metadata": {},
   "outputs": [
    {
     "name": "stdout",
     "output_type": "stream",
     "text": [
      "f1 score = 0.772\n"
     ]
    }
   ],
   "source": [
    "# f1 score\n",
    "# k = 5, C = 0.04\n",
    "# f1 score => 77.2%\n",
    "\n",
    "cv = KFold(n_splits=5, random_state=1, shuffle=True)\n",
    "model = LogisticRegression(C=0.04)\n",
    "scores = cross_val_score(model, X, y, scoring='f1', cv=cv, n_jobs=-1)\n",
    "print('f1 score = %.3f' % (mean(scores)))"
   ]
  },
  {
   "cell_type": "markdown",
   "metadata": {},
   "source": [
    "# Parameter optimization (LR)"
   ]
  },
  {
   "cell_type": "code",
   "execution_count": 21,
   "metadata": {},
   "outputs": [
    {
     "data": {
      "image/png": "[encoded data removed]",
      "text/plain": [
       "<Figure size 432x288 with 1 Axes>"
      ]
     },
     "metadata": {
      "needs_background": "light"
     },
     "output_type": "display_data"
    }
   ],
   "source": [
    "# Finding the best number of folds\n",
    "# The best number of folds was found to be 5\n",
    "\n",
    "cv_range = range(2, 10)\n",
    "cv_scores = []\n",
    "\n",
    "for k in cv_range:\n",
    "    cv = KFold(n_splits=k, random_state=1, shuffle=True)\n",
    "    model = LogisticRegression(C=0.03)\n",
    "    scores = cross_val_score(model, X, y, scoring='accuracy', cv=cv, n_jobs=-1)\n",
    "    cv_scores.append(scores.mean())\n",
    "\n",
    "#k_scores\n",
    "sn.lineplot(x = cv_range, y = cv_scores);\n",
    "plt.grid()"
   ]
  },
  {
   "cell_type": "code",
   "execution_count": 24,
   "metadata": {},
   "outputs": [
    {
     "data": {
      "image/png": "[encoded data removed]",
      "text/plain": [
       "<Figure size 432x288 with 1 Axes>"
      ]
     },
     "metadata": {
      "needs_background": "light"
     },
     "output_type": "display_data"
    }
   ],
   "source": [
    "# Finding the best C value\n",
    "c_range = np.arange(0.035, 0.05, 0.001)\n",
    "c_scores = []\n",
    "\n",
    "for c in np.arange(0.035, 0.05, 0.001):\n",
    "    cv = KFold(n_splits=5, random_state=1, shuffle=True)\n",
    "    model = LogisticRegression(C=c)\n",
    "    scores = cross_val_score(model, X, y, scoring='accuracy', cv=cv, n_jobs=-1)\n",
    "    c_scores.append(scores.mean())\n",
    "\n",
    "#k_scores\n",
    "sn.lineplot(x = c_range, y = c_scores);\n",
    "plt.grid()"
   ]
  },
  {
   "cell_type": "markdown",
   "metadata": {},
   "source": [
    "# RBF"
   ]
  },
  {
   "cell_type": "markdown",
   "metadata": {},
   "source": [
    "Compiling and training the model:"
   ]
  },
  {
   "cell_type": "code",
   "execution_count": 26,
   "metadata": {},
   "outputs": [
    {
     "name": "stdout",
     "output_type": "stream",
     "text": [
      "Accuracy = 0.882 \n",
      "Standard deviation = (0.055)\n",
      "Computation Time = 4.490983724594116\n"
     ]
    }
   ],
   "source": [
    "# RBF with k-Fold\n",
    "# k = 10, sigma = 1\n",
    "# The best accuracy result is 88.2%,   standard deviation = 5.5%,   Computation Time = 7.13s\n",
    "\n",
    "start = time.time()\n",
    "kernel = 1.0 * RBF(1.0)\n",
    "cv = KFold(n_splits=10, random_state=1, shuffle=True)\n",
    "model = GaussianProcessClassifier(kernel=kernel, random_state=0)\n",
    "scores = cross_val_score(model, X, y, scoring='accuracy', cv=cv, n_jobs=-1)\n",
    "end = time.time()\n",
    "total_time = end - start\n",
    "print('Accuracy = %.3f \\nStandard deviation = (%.3f)' % (mean(scores), std(scores)))\n",
    "print(\"Computation Time = \"+ str(total_time))"
   ]
  },
  {
   "cell_type": "markdown",
   "metadata": {},
   "source": [
    "Calculating the precision:"
   ]
  },
  {
   "cell_type": "code",
   "execution_count": 27,
   "metadata": {},
   "outputs": [
    {
     "name": "stdout",
     "output_type": "stream",
     "text": [
      "Precision = 0.893\n"
     ]
    }
   ],
   "source": [
    "# Precision\n",
    "# k = 10, sigma = 1\n",
    "# Precision => 89.3%\n",
    "\n",
    "kernel = 1.0 * RBF(1.0)\n",
    "cv = KFold(n_splits=10, random_state=1, shuffle=True)\n",
    "model = GaussianProcessClassifier(kernel=kernel, random_state=0)\n",
    "scores = cross_val_score(model, X, y, scoring='precision', cv=cv, n_jobs=-1)\n",
    "print('Precision = %.3f' % (mean(scores)))"
   ]
  },
  {
   "cell_type": "markdown",
   "metadata": {},
   "source": [
    "Calculating the recall:"
   ]
  },
  {
   "cell_type": "code",
   "execution_count": 28,
   "metadata": {},
   "outputs": [
    {
     "name": "stdout",
     "output_type": "stream",
     "text": [
      "Recall = 0.867\n"
     ]
    }
   ],
   "source": [
    "# Recall\n",
    "# k = 10, sigma = 1\n",
    "# Recall => 86.7%\n",
    "\n",
    "kernel = 1.0 * RBF(1.0)\n",
    "cv = KFold(n_splits=10, random_state=1, shuffle=True)\n",
    "model = GaussianProcessClassifier(kernel=kernel, random_state=0)\n",
    "scores = cross_val_score(model, X, y, scoring='recall', cv=cv, n_jobs=-1)\n",
    "print('Recall = %.3f' % (mean(scores)))"
   ]
  },
  {
   "cell_type": "markdown",
   "metadata": {},
   "source": [
    "Calculating the f1 score:"
   ]
  },
  {
   "cell_type": "code",
   "execution_count": 29,
   "metadata": {},
   "outputs": [
    {
     "name": "stdout",
     "output_type": "stream",
     "text": [
      "f1 score = 0.877\n"
     ]
    }
   ],
   "source": [
    "# f1 score\n",
    "# k = 10, sigma = 1\n",
    "# f1 score => 87.7%\n",
    "\n",
    "kernel = 1.0 * RBF(1.0)\n",
    "cv = KFold(n_splits=10, random_state=1, shuffle=True)\n",
    "model = GaussianProcessClassifier(kernel=kernel, random_state=0)\n",
    "scores = cross_val_score(model, X, y, scoring='f1', cv=cv, n_jobs=-1)\n",
    "print('f1 score = %.3f' % (mean(scores)))"
   ]
  },
  {
   "cell_type": "markdown",
   "metadata": {},
   "source": [
    "# Parameter optimization (RBF)"
   ]
  },
  {
   "cell_type": "code",
   "execution_count": 31,
   "metadata": {},
   "outputs": [
    {
     "data": {
      "image/png": "[encoded data removed]",
      "text/plain": [
       "<Figure size 432x288 with 1 Axes>"
      ]
     },
     "metadata": {
      "needs_background": "light"
     },
     "output_type": "display_data"
    }
   ],
   "source": [
    "# Finding the best parameters\n",
    "\n",
    "cv_range = range(1, 10)\n",
    "cv_scores = []\n",
    "\n",
    "for k in cv_range:\n",
    "    \n",
    "    kernel = k * RBF(k)\n",
    "    gpc = GaussianProcessClassifier(kernel=kernel, random_state=0).fit(X, y)\n",
    "    \n",
    "    cv = KFold(n_splits=10, random_state=1, shuffle=True)\n",
    "    model = GaussianProcessClassifier(kernel=kernel, random_state=0)\n",
    "    cores = cross_val_score(model, X, y, scoring='accuracy', cv=cv, n_jobs=-1)\n",
    "    cv_scores.append(scores.mean())\n",
    "\n",
    "#k_scores\n",
    "sn.lineplot(x = cv_range, y = cv_scores);\n",
    "plt.grid()"
   ]
  },
  {
   "cell_type": "markdown",
   "metadata": {},
   "source": [
    "# k-NN"
   ]
  },
  {
   "cell_type": "markdown",
   "metadata": {},
   "source": [
    "Compiling and training the model:"
   ]
  },
  {
   "cell_type": "code",
   "execution_count": 37,
   "metadata": {},
   "outputs": [
    {
     "name": "stdout",
     "output_type": "stream",
     "text": [
      "Accuracy = 0.878 \n",
      "Standard deviation = 0.064\n",
      "Computation Time = 0.067s\n"
     ]
    }
   ],
   "source": [
    "# applying k-Fold with k-NN for k = 16 and NN = 5\n",
    "# Accuracy = 0.881, Standard deviation = 0.062, Computation Time = 0.122s\n",
    "\n",
    "start = time.time()\n",
    "knn = KNeighborsClassifier(n_neighbors= 5)\n",
    "cv = KFold(n_splits=8, random_state=1, shuffle=True)\n",
    "scores = cross_val_score(knn, X, y , cv = cv, scoring= 'accuracy')\n",
    "end = time.time()\n",
    "total_time = end - start\n",
    "print('Accuracy = %.3f \\nStandard deviation = %.3f' % (mean(scores), std(scores)))\n",
    "print(\"Computation Time = \"+ str(round(total_time, 3))+'s')"
   ]
  },
  {
   "cell_type": "markdown",
   "metadata": {},
   "source": [
    "Calculating the precision:"
   ]
  },
  {
   "cell_type": "code",
   "execution_count": 38,
   "metadata": {},
   "outputs": [
    {
     "name": "stdout",
     "output_type": "stream",
     "text": [
      "Precision = 0.916\n"
     ]
    }
   ],
   "source": [
    "# Precision\n",
    "# applying k-Fold with k-NN for k = 16 and NN = 5\n",
    "# Precision => 91.6%\n",
    "\n",
    "knn = KNeighborsClassifier(n_neighbors= 5)\n",
    "cv = KFold(n_splits=16, random_state=1, shuffle=True)\n",
    "scores = cross_val_score(knn, X, y , cv = cv, scoring= 'precision')\n",
    "print('Precision = %.3f' % (mean(scores)))"
   ]
  },
  {
   "cell_type": "markdown",
   "metadata": {},
   "source": [
    "Calculating the recall:"
   ]
  },
  {
   "cell_type": "code",
   "execution_count": 39,
   "metadata": {},
   "outputs": [
    {
     "name": "stdout",
     "output_type": "stream",
     "text": [
      "Recall = 0.853\n"
     ]
    }
   ],
   "source": [
    "# Recall\n",
    "# applying k-Fold with k-NN for k = 16 and NN = 5\n",
    "# Recall => 85.3%\n",
    "\n",
    "knn = KNeighborsClassifier(n_neighbors= 5)\n",
    "cv = KFold(n_splits=16, random_state=1, shuffle=True)\n",
    "scores = cross_val_score(knn, X, y , cv = cv, scoring= 'recall')\n",
    "print('Recall = %.3f' % (mean(scores)))"
   ]
  },
  {
   "cell_type": "markdown",
   "metadata": {},
   "source": [
    "Calculating the f1 score:"
   ]
  },
  {
   "cell_type": "code",
   "execution_count": 40,
   "metadata": {},
   "outputs": [
    {
     "name": "stdout",
     "output_type": "stream",
     "text": [
      "f1 score = 0.877\n"
     ]
    }
   ],
   "source": [
    "# f1 score\n",
    "# applying k-Fold with k-NN for k = 16 and NN = 5\n",
    "# f1 score => 87.7%\n",
    "\n",
    "knn = KNeighborsClassifier(n_neighbors= 5)\n",
    "cv = KFold(n_splits=16, random_state=1, shuffle=True)\n",
    "scores = cross_val_score(knn, X, y , cv = cv, scoring= 'f1')\n",
    "print('f1 score = %.3f' % (mean(scores)))"
   ]
  },
  {
   "cell_type": "markdown",
   "metadata": {},
   "source": [
    "# Parameter optimization (k-NN)"
   ]
  },
  {
   "cell_type": "code",
   "execution_count": 41,
   "metadata": {},
   "outputs": [
    {
     "data": {
      "image/png": "[encoded data removed]",
      "text/plain": [
       "<Figure size 432x288 with 1 Axes>"
      ]
     },
     "metadata": {
      "needs_background": "light"
     },
     "output_type": "display_data"
    }
   ],
   "source": [
    "# finding the best NN value\n",
    "k_range = range(2, 31)\n",
    "k_scores = []\n",
    "\n",
    "for k in k_range:\n",
    "  cv = KFold(n_splits=16, random_state=1, shuffle=True)\n",
    "  model = KNeighborsClassifier(n_neighbors= k)\n",
    "  scores = cross_val_score(model, X, y, scoring='accuracy', cv=cv, n_jobs=-1)\n",
    "  k_scores.append(scores.mean())\n",
    "\n",
    "#k_scores\n",
    "sn.lineplot(x = k_range, y = k_scores);\n",
    "plt.grid()"
   ]
  },
  {
   "cell_type": "markdown",
   "metadata": {},
   "source": [
    "# SVM (Linear)"
   ]
  },
  {
   "cell_type": "markdown",
   "metadata": {},
   "source": [
    "Compiling and training the model:"
   ]
  },
  {
   "cell_type": "code",
   "execution_count": 32,
   "metadata": {},
   "outputs": [
    {
     "name": "stdout",
     "output_type": "stream",
     "text": [
      "Accuracy: 0.775 (0.041)\n",
      "Computation Time = 0.09574198722839355\n"
     ]
    }
   ],
   "source": [
    "# Applying SVM (Linear kernel) with k-fold cross validation \n",
    "# C = 2, k = 4\n",
    "# The accuracy result was ==> 77.5%\n",
    "# standard deviation = 4%\n",
    "# calculating computation time ==> 0.1s\n",
    "\n",
    "# k-fold cross validation for SVM(Linear)\n",
    "start = time.time()\n",
    "svc_linear_folded = SVC(C=2, kernel = 'linear')\n",
    "cv = KFold(n_splits=4, random_state=1, shuffle=True)\n",
    "scores = cross_val_score(svc_linear_folded, X, y , cv = cv, scoring= 'accuracy')\n",
    "end = time.time()\n",
    "total_time = end - start\n",
    "print('Accuracy: %.3f (%.3f)' % (mean(scores), std(scores)))\n",
    "print(\"Computation Time = \"+ str(total_time))"
   ]
  },
  {
   "cell_type": "markdown",
   "metadata": {},
   "source": [
    "Calculating the precision:"
   ]
  },
  {
   "cell_type": "code",
   "execution_count": 33,
   "metadata": {},
   "outputs": [
    {
     "name": "stdout",
     "output_type": "stream",
     "text": [
      "Precision: 0.818\n"
     ]
    }
   ],
   "source": [
    "# Precision \n",
    "# C = 3, cv = 3\n",
    "# Precision ==> 81.8%\n",
    "\n",
    "cv = KFold(n_splits=4, random_state=1, shuffle=True)\n",
    "svc_linear_folded = SVC(C=2, kernel = 'linear')\n",
    "scores = cross_val_score(svc_linear_folded, X, y , cv = cv, scoring= 'precision')\n",
    "print('Precision: %.3f' % (mean(scores)))"
   ]
  },
  {
   "cell_type": "markdown",
   "metadata": {},
   "source": [
    "Calculating the recall:"
   ]
  },
  {
   "cell_type": "code",
   "execution_count": 34,
   "metadata": {},
   "outputs": [
    {
     "name": "stdout",
     "output_type": "stream",
     "text": [
      "Recall: 0.719\n"
     ]
    }
   ],
   "source": [
    "# Recall \n",
    "# C = 3, cv = 3\n",
    "# Recall ==> 71.9%\n",
    "\n",
    "cv = KFold(n_splits=4, random_state=1, shuffle=True)\n",
    "svc_linear_folded = SVC(C=2, kernel = 'linear')\n",
    "scores = cross_val_score(svc_linear_folded, X, y , cv = cv, scoring= 'recall')\n",
    "print('Recall: %.3f' % (mean(scores)))"
   ]
  },
  {
   "cell_type": "markdown",
   "metadata": {},
   "source": [
    "Calculating the f1 score:"
   ]
  },
  {
   "cell_type": "code",
   "execution_count": 35,
   "metadata": {},
   "outputs": [
    {
     "name": "stdout",
     "output_type": "stream",
     "text": [
      "f1 score: 0.760\n"
     ]
    }
   ],
   "source": [
    "# f1 score\n",
    "# C = 3, cv = 3\n",
    "# f1 score ==> 76.0%\n",
    "\n",
    "cv = KFold(n_splits=4, random_state=1, shuffle=True)\n",
    "svc_linear_folded = SVC(C=2, kernel = 'linear')\n",
    "scores = cross_val_score(svc_linear_folded, X, y , cv = cv, scoring= 'f1')\n",
    "print('f1 score: %.3f' % (mean(scores)))"
   ]
  },
  {
   "cell_type": "markdown",
   "metadata": {},
   "source": [
    "# SVM (Polynomial)"
   ]
  },
  {
   "cell_type": "markdown",
   "metadata": {},
   "source": [
    "Compiling and training the model:"
   ]
  },
  {
   "cell_type": "code",
   "execution_count": 3,
   "metadata": {},
   "outputs": [
    {
     "name": "stdout",
     "output_type": "stream",
     "text": [
      "Accuracy = 0.881 \n",
      "Standard deviation = 0.024\n",
      "Computation Time = 0.057845115661621094\n"
     ]
    }
   ],
   "source": [
    "# applying k-Fold cross validation for SVM(Polynomial)\n",
    "# C = 17, degree = 5, k = 4, Accuracy ==> 88.1%, Standard deviation ==> 2.4%\n",
    "# Computation time = 0.035s\n",
    "start = time.time()\n",
    "cv = KFold(n_splits=4, random_state=1, shuffle=True)\n",
    "svc_poly_folded = SVC(C=17, kernel='poly', degree=5)\n",
    "scores = cross_val_score(svc_poly_folded, X, y , cv = cv, scoring= 'accuracy')\n",
    "end = time.time()\n",
    "total_time = end - start\n",
    "print('Accuracy = %.3f \\nStandard deviation = %.3f' % (mean(scores), std(scores)))\n",
    "print(\"Computation Time = \"+ str(total_time))"
   ]
  },
  {
   "cell_type": "markdown",
   "metadata": {},
   "source": [
    "Calculating the precision:"
   ]
  },
  {
   "cell_type": "code",
   "execution_count": 4,
   "metadata": {},
   "outputs": [
    {
     "name": "stdout",
     "output_type": "stream",
     "text": [
      "Precision = 0.925\n"
     ]
    }
   ],
   "source": [
    "# Precision\n",
    "# C = 17, degree = 5, k = 4, \n",
    "# Precision ==> 92.5%\n",
    "\n",
    "cv = KFold(n_splits=4, random_state=1, shuffle=True)\n",
    "svc_poly_folded = SVC(C=17, kernel='poly', degree=5)\n",
    "scores = cross_val_score(svc_poly_folded, X, y , cv = cv, scoring= 'precision')\n",
    "print('Precision = %.3f' % (mean(scores)))"
   ]
  },
  {
   "cell_type": "markdown",
   "metadata": {},
   "source": [
    "Calculating the recall:"
   ]
  },
  {
   "cell_type": "code",
   "execution_count": 5,
   "metadata": {},
   "outputs": [
    {
     "name": "stdout",
     "output_type": "stream",
     "text": [
      "Recall = 0.831\n"
     ]
    }
   ],
   "source": [
    "# Recall\n",
    "# C = 17, degree = 5, k = 4, \n",
    "# Recall ==> 83.1%\n",
    "\n",
    "cv = KFold(n_splits=4, random_state=1, shuffle=True)\n",
    "svc_poly_folded = SVC(C=17, kernel='poly', degree=5)\n",
    "scores = cross_val_score(svc_poly_folded, X, y , cv = cv, scoring= 'recall')\n",
    "print('Recall = %.3f' % (mean(scores)))"
   ]
  },
  {
   "cell_type": "markdown",
   "metadata": {},
   "source": [
    "Calculating the f1 score:"
   ]
  },
  {
   "cell_type": "code",
   "execution_count": 6,
   "metadata": {},
   "outputs": [
    {
     "name": "stdout",
     "output_type": "stream",
     "text": [
      "f1 score = 0.875\n"
     ]
    }
   ],
   "source": [
    "# f1 score\n",
    "# C = 17, degree = 5, k = 4\n",
    "# f1 score ==> 87.5%\n",
    "\n",
    "cv = KFold(n_splits=4, random_state=1, shuffle=True)\n",
    "svc_poly_folded = SVC(C=17, kernel='poly', degree=5)\n",
    "scores = cross_val_score(svc_poly_folded, X, y , cv = cv, scoring= 'f1')\n",
    "print('f1 score = %.3f' % (mean(scores)))"
   ]
  },
  {
   "cell_type": "markdown",
   "metadata": {},
   "source": [
    "# Parameter optimization (SVM (PLY))"
   ]
  },
  {
   "cell_type": "code",
   "execution_count": 7,
   "metadata": {},
   "outputs": [
    {
     "data": {
      "image/png": "[encoded data removed]",
      "text/plain": [
       "<Figure size 432x288 with 1 Axes>"
      ]
     },
     "metadata": {
      "needs_background": "light"
     },
     "output_type": "display_data"
    }
   ],
   "source": [
    "# Finding the best degree value\n",
    "d_range = range(1, 30)\n",
    "d_scores = []\n",
    "\n",
    "for k in d_range:\n",
    "  svc_poly_folded = SVC(kernel='poly', degree=k, C=17)\n",
    "  cv = KFold(n_splits=4, random_state=1, shuffle=True)\n",
    "  scores = cross_val_score(svc_poly_folded, X, y , cv = cv, scoring= 'accuracy')\n",
    "  d_scores.append(scores.mean())\n",
    "\n",
    "#k_scores\n",
    "sn.lineplot(x = d_range, y = d_scores);\n",
    "plt.grid()"
   ]
  },
  {
   "cell_type": "code",
   "execution_count": 8,
   "metadata": {},
   "outputs": [
    {
     "data": {
      "image/png": "[encoded data removed]",
      "text/plain": [
       "<Figure size 432x288 with 1 Axes>"
      ]
     },
     "metadata": {
      "needs_background": "light"
     },
     "output_type": "display_data"
    }
   ],
   "source": [
    "# Finding the best C value\n",
    "c_range = range(1, 30)\n",
    "c_scores = []\n",
    "\n",
    "for k in c_range:\n",
    "  svc_poly_folded = SVC(C=k, kernel='poly', degree=5)\n",
    "  cv = KFold(n_splits=4, random_state=1, shuffle=True)\n",
    "  scores = cross_val_score(svc_poly_folded, X, y , cv = cv, scoring= 'accuracy')\n",
    "  c_scores.append(scores.mean())\n",
    "\n",
    "#k_scores\n",
    "sn.lineplot(x = c_range, y = c_scores);\n",
    "plt.grid()"
   ]
  },
  {
   "cell_type": "markdown",
   "metadata": {},
   "source": [
    "# SVM (RBF)"
   ]
  },
  {
   "cell_type": "markdown",
   "metadata": {},
   "source": [
    "Compiling and training the model:"
   ]
  },
  {
   "cell_type": "code",
   "execution_count": 9,
   "metadata": {},
   "outputs": [
    {
     "name": "stdout",
     "output_type": "stream",
     "text": [
      "Accuracy = 0.894 \n",
      "Standard deviation = 0.032\n",
      "Computation Time = 0.04691147804260254\n"
     ]
    }
   ],
   "source": [
    "# Gaussian Kernel (RBF)\n",
    "# C = 6.0, gamma = 0.03, k = 4, Accuracy ==> 89.4%, Standard deviation ==> 3.5%\n",
    "# Computation time = 0.063s\n",
    "\n",
    "start = time.time()\n",
    "svclassifier = SVC(C=5, kernel='rbf', gamma=0.03)\n",
    "cv = KFold(n_splits=4, random_state=1, shuffle=True)\n",
    "scores = cross_val_score(svclassifier, X, y , cv = cv, scoring= 'accuracy')\n",
    "end = time.time()\n",
    "total_time = end - start\n",
    "print('Accuracy = %.3f \\nStandard deviation = %.3f' % (mean(scores), std(scores)))\n",
    "print(\"Computation Time = \"+ str(total_time))"
   ]
  },
  {
   "cell_type": "markdown",
   "metadata": {},
   "source": [
    "Calculating the precision:"
   ]
  },
  {
   "cell_type": "code",
   "execution_count": 10,
   "metadata": {},
   "outputs": [
    {
     "name": "stdout",
     "output_type": "stream",
     "text": [
      "Precision = 0.902\n"
     ]
    }
   ],
   "source": [
    "# Precision\n",
    "# C = 6.0, gamma = 0.03, k = 4\n",
    "# Precision = 90.1%\n",
    "\n",
    "cv = KFold(n_splits=4, random_state=1, shuffle=True)\n",
    "scores = cross_val_score(svclassifier, X, y , cv = cv, scoring= 'precision')\n",
    "print('Precision = %.3f' % (mean(scores)))"
   ]
  },
  {
   "cell_type": "markdown",
   "metadata": {},
   "source": [
    "Calculating the recall:"
   ]
  },
  {
   "cell_type": "code",
   "execution_count": 11,
   "metadata": {},
   "outputs": [
    {
     "name": "stdout",
     "output_type": "stream",
     "text": [
      "Recall = 0.887\n"
     ]
    }
   ],
   "source": [
    "# Recall\n",
    "# C = 6.0, gamma = 0.03, k = 4\n",
    "# Recall = 88.7%\n",
    "\n",
    "cv = KFold(n_splits=4, random_state=1, shuffle=True)\n",
    "scores = cross_val_score(svclassifier, X, y , cv = cv, scoring= 'recall')\n",
    "print('Recall = %.3f' % (mean(scores)))"
   ]
  },
  {
   "cell_type": "markdown",
   "metadata": {},
   "source": [
    "Calculating the f1 score:"
   ]
  },
  {
   "cell_type": "code",
   "execution_count": 12,
   "metadata": {},
   "outputs": [
    {
     "name": "stdout",
     "output_type": "stream",
     "text": [
      "f1 score = 0.892\n"
     ]
    }
   ],
   "source": [
    "# f1 score\n",
    "# C = 6.0, gamma = 0.03, k = 4\n",
    "# f1 score = 89.2%\n",
    "\n",
    "cv = KFold(n_splits=4, random_state=1, shuffle=True)\n",
    "scores = cross_val_score(svclassifier, X, y , cv = cv, scoring= 'f1')\n",
    "print('f1 score = %.3f' % (mean(scores)))"
   ]
  },
  {
   "cell_type": "markdown",
   "metadata": {},
   "source": [
    "# Parameter optimization (SVM (RBF))"
   ]
  },
  {
   "cell_type": "code",
   "execution_count": 13,
   "metadata": {},
   "outputs": [
    {
     "data": {
      "image/png": "[encoded data removed]",
      "text/plain": [
       "<Figure size 432x288 with 1 Axes>"
      ]
     },
     "metadata": {
      "needs_background": "light"
     },
     "output_type": "display_data"
    }
   ],
   "source": [
    "# Finding the best gamma value\n",
    "g_range = range(1, 18)\n",
    "g_scores = []\n",
    "\n",
    "for g in g_range:\n",
    "  svc_linear_folded = SVC(C=g, kernel='rbf', gamma= 0.03)\n",
    "  cv = KFold(n_splits=4, random_state=1, shuffle=True)\n",
    "  scores = cross_val_score(svc_linear_folded, X, y , cv = cv, scoring= 'accuracy')\n",
    "  g_scores.append(scores.mean())\n",
    "\n",
    "#k_scores\n",
    "sn.lineplot(x = g_range, y = g_scores);\n",
    "plt.grid()"
   ]
  },
  {
   "cell_type": "code",
   "execution_count": 14,
   "metadata": {},
   "outputs": [
    {
     "data": {
      "image/png": "[encoded data removed]",
      "text/plain": [
       "<Figure size 432x288 with 1 Axes>"
      ]
     },
     "metadata": {
      "needs_background": "light"
     },
     "output_type": "display_data"
    }
   ],
   "source": [
    "# Finding the best gamma value\n",
    "g_range = range(-10, 6)\n",
    "g_scores = []\n",
    "\n",
    "for g in g_range:\n",
    "  gma = (2**(g))\n",
    "  svc_linear_folded = SVC(C=6, kernel='rbf', gamma= gma)\n",
    "  cv = KFold(n_splits=4, random_state=1, shuffle=True)\n",
    "  scores = cross_val_score(svc_linear_folded, X, y , cv = cv, scoring= 'accuracy')\n",
    "  g_scores.append(scores.mean())\n",
    "\n",
    "#k_scores\n",
    "sn.lineplot(x = g_range, y = g_scores);\n",
    "plt.grid()"
   ]
  }
 ],
 "metadata": {
  "interpreter": {
   "hash": "900bf75fc1409b615d076e1463c45ace5856b07f789d2fbba6325feed7de60b4"
  },
  "kernelspec": {
   "display_name": "Python 3.9.6 64-bit",
   "language": "python",
   "name": "python3"
  },
  "language_info": {
   "codemirror_mode": {
    "name": "ipython",
    "version": 3
   },
   "file_extension": ".py",
   "mimetype": "text/x-python",
   "name": "python",
   "nbconvert_exporter": "python",
   "pygments_lexer": "ipython3",
   "version": "3.9.6"
  },
  "orig_nbformat": 4
 },
 "nbformat": 4,
 "nbformat_minor": 2
}
